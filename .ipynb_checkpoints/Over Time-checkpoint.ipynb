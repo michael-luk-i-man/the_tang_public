{
 "cells": [
  {
   "cell_type": "code",
   "execution_count": 2,
   "metadata": {
    "collapsed": true
   },
   "outputs": [],
   "source": [
    "import seaborn as sb, numpy as np, pandas as pd, matplotlib.pyplot as plt "
   ]
  },
  {
   "cell_type": "code",
   "execution_count": 3,
   "metadata": {
    "collapsed": true
   },
   "outputs": [],
   "source": [
    "df = pd.read_csv(\"../the_tang/[LUCKYMAN'S COPY] Inventory List & Schedule - 1 Wing Heung.csv\")"
   ]
  },
  {
   "cell_type": "code",
   "execution_count": 4,
   "metadata": {},
   "outputs": [
    {
     "name": "stdout",
     "output_type": "stream",
     "text": [
      "    ID      Date  Measurement  Name  Amount  Total  Notes  Unit Price\n",
      "17  18   1/26/18           50   SM.    45.0    NaN    NaN         0.9\n",
      "16  17   1/26/18          175  FLAT   157.5    NaN    NaN         0.9\n",
      "15  16   1/26/18          200     L   180.0    NaN    NaN         0.9\n",
      "14  15   1/12/18           50   SM.    45.0  180.0    NaN         0.9\n",
      "13  14   1/12/18           25  FLAT    22.5    NaN    NaN         0.9\n",
      "12  13   1/12/18          125     L   112.5    NaN    NaN         0.9\n",
      "11  12  12/30/17           40   SM.    36.0  216.0    NaN         0.9\n",
      "10  11  12/30/17          100  FLAT    90.0    NaN    NaN         0.9\n",
      "9   10  12/30/17          100     L    90.0    NaN    NaN         0.9\n",
      "8    9  12/22/17           40   SM.    36.0  216.0    NaN         0.9\n",
      "7    8  12/22/17          100  FLAT    90.0    NaN    NaN         0.9\n",
      "6    7  12/22/17          100     L    90.0    NaN    NaN         0.9\n",
      "5    6  12/15/17           25   SM.    22.5  270.0    NaN         0.9\n",
      "4    5  12/15/17          100  FLAT    90.0    NaN    NaN         0.9\n",
      "3    4  12/15/17          175     L   157.5    NaN    NaN         0.9\n",
      "2    3   12/9/17           40   SM.    36.0  351.0    NaN         0.9\n",
      "1    2   12/9/17          125  FLAT   112.5    NaN    NaN         0.9\n",
      "0    1   12/9/17          225     L   202.5    NaN    NaN         0.9\n"
     ]
    }
   ],
   "source": [
    "reversed_df = df.iloc[::-1]\n",
    "print(reversed_df)"
   ]
  },
  {
   "cell_type": "code",
   "execution_count": 5,
   "metadata": {},
   "outputs": [
    {
     "data": {
      "text/plain": [
       "<matplotlib.figure.Figure at 0x7fc422e79908>"
      ]
     },
     "metadata": {},
     "output_type": "display_data"
    },
    {
     "data": {
      "image/png": "[encoded data removed]",
      "text/plain": [
       "<matplotlib.figure.Figure at 0x7fc422e79b38>"
      ]
     },
     "metadata": {},
     "output_type": "display_data"
    }
   ],
   "source": [
    "plt.clf()\n",
    "fig, ax = plt.subplots()\n",
    "sb.barplot(x='Date',y='Amount',data=df,hue='Name',palette='muted')\n",
    "wm = [9.490,\n",
    "9.750,\n",
    "11.99,\n",
    "13.990,\n",
    "10.49,\n",
    "13.99]\n",
    "\n",
    "coco = [2.99,\n",
    "2.99,\n",
    "3.33,\n",
    "2.88,\n",
    "2.88,\n",
    "2.67,\n",
    "3.11]\n",
    "\n",
    "melon = [4.165,\n",
    "5.998,\n",
    "6.165,\n",
    "5.832,\n",
    "5.832]\n",
    "# def change_width(ax, new_value) :\n",
    "#     for patch in ax.patches :\n",
    "#         current_width = patch.get_width()\n",
    "#         diff = current_width - new_value\n",
    "\n",
    "#         # we change the bar width\n",
    "#         patch.set_width(new_value)\n",
    "\n",
    "#         # we recenter the bar\n",
    "#         patch.set_x(patch.get_x() + diff * .5)\n",
    "\n",
    "# change_width(ax, .55)\n",
    "plt.show()"
   ]
  },
  {
   "cell_type": "code",
   "execution_count": 6,
   "metadata": {},
   "outputs": [
    {
     "data": {
      "image/png": "[encoded data removed]",
      "text/plain": [
       "<matplotlib.figure.Figure at 0x7fc422d97588>"
      ]
     },
     "metadata": {},
     "output_type": "display_data"
    }
   ],
   "source": [
    "plt.clf()\n",
    "sb.regplot(x='ID',y='Amount',data=reversed_df, color='green')\n",
    "plt.show()"
   ]
  },
  {
   "cell_type": "code",
   "execution_count": 7,
   "metadata": {},
   "outputs": [
    {
     "data": {
      "text/html": [
       "<iframe id=\"igraph\" scrolling=\"no\" style=\"border:none;\" seamless=\"seamless\" src=\"https://plot.ly/~mluk/4.embed\" height=\"525px\" width=\"100%\"></iframe>"
      ],
      "text/plain": [
       "<plotly.tools.PlotlyDisplay object>"
      ]
     },
     "execution_count": 7,
     "metadata": {},
     "output_type": "execute_result"
    }
   ],
   "source": [
    "import plotly.plotly as py\n",
    "import plotly\n",
    "import plotly.graph_objs as go\n",
    "N = 10\n",
    "random_x = np.linspace(0, 10, N)\n",
    "\n",
    "trace1 = go.Scatter(\n",
    "    x = random_x,\n",
    "    y = wm,\n",
    "        mode = 'lines+markers',\n",
    "    name = 'Watermelon Fresh'\n",
    ")\n",
    "\n",
    "trace2 = go.Scatter(\n",
    "    x = random_x,\n",
    "    y = coco,\n",
    "        mode = 'lines+markers',\n",
    "    name = 'Coconut Thai'\n",
    ")\n",
    "\n",
    "trace3 = go.Scatter(\n",
    "    x = random_x,\n",
    "    y = melon,\n",
    "        mode = 'lines+markers',\n",
    "    name = 'Melon Honey Kiss'\n",
    ")\n",
    "\n",
    "data = [trace1,trace2,trace3]\n",
    "\n",
    "py.iplot(data, filename='basic-line')"
   ]
  },
  {
   "cell_type": "code",
   "execution_count": null,
   "metadata": {},
   "outputs": [],
   "source": [
    "df = pd.read_csv('../the_tang/2018 to Feb 26.csv')\n",
    "display(df)\n",
    "print(df.to_string())\n",
    "appetizer_ids = [27,29,37,38,39,48,52,56,57]"
   ]
  },
  {
   "cell_type": "code",
   "execution_count": 57,
   "metadata": {},
   "outputs": [],
   "source": [
    "\n",
    "headers = df.columns.get_values().tolist()\n",
    "# headers.pop(1)\n",
    " \n",
    "\n",
    "def item_bought_to_list(item_id):\n",
    "    days = []\n",
    "    print(df.iloc[item_id,1])\n",
    "    for i in range(0,120):\n",
    "        test = df.iloc[item_id,i]\n",
    "        if isinstance(test, str):\n",
    "            if test.isdigit():\n",
    "#                 print('\\n',headers[i],test)\n",
    "                days.append([headers[i],test])\n",
    "    days.pop(0)\n",
    "    return days\n",
    " "
   ]
  },
  {
   "cell_type": "code",
   "execution_count": 59,
   "metadata": {},
   "outputs": [
    {
     "name": "stdout",
     "output_type": "stream",
     "text": [
      "46\n",
      "House Sake Bottle\n",
      "['Mon 01/01/2018', '1']\n",
      "['Sat 01/06/2018', '1']\n",
      "['Mon 01/08/2018', '1']\n",
      "['Thu 01/18/2018', '1']\n",
      "['Mon 01/22/2018', '0']\n",
      "['Thu 02/01/2018', '2']\n",
      "['Fri 02/02/2018', '1']\n",
      "['Fri 02/16/2018', '1']\n",
      "['Thu 02/22/2018', '2']\n",
      "47\n",
      "House Sake Glass\n",
      "['Tue 01/02/2018', '1']\n",
      "['Fri 01/05/2018', '2']\n",
      "['Sat 01/06/2018', '2']\n",
      "['Mon 01/08/2018', '1']\n",
      "['Thu 01/11/2018', '3']\n",
      "['Sat 01/13/2018', '3']\n",
      "['Mon 01/22/2018', '0']\n",
      "['Fri 02/02/2018', '3']\n",
      "['Tue 02/20/2018', '1']\n",
      "55\n",
      "Plum sake glass\n",
      "['Tue 01/16/2018', '2']\n",
      "['Fri 01/19/2018', '1']\n",
      "['Sun 01/21/2018', '3']\n",
      "['Mon 01/22/2018', '1']\n",
      "['Sat 02/03/2018', '1']\n",
      "['Thu 02/15/2018', '1']\n",
      "['Fri 02/16/2018', '2']\n",
      "['Sun 02/18/2018', '3']\n",
      "['Tue 02/20/2018', '1']\n",
      "['Sat 02/24/2018', '1']\n",
      "74\n",
      "Yuzu Sake Glass\n",
      "['Sat 01/06/2018', '2']\n",
      "['Sun 01/14/2018', '2']\n",
      "['Tue 01/16/2018', '1']\n",
      "['Fri 01/19/2018', '6']\n",
      "['Sun 01/21/2018', '1']\n",
      "['Mon 01/22/2018', '0']\n",
      "['Tue 01/23/2018', '2']\n",
      "['Wed 01/24/2018', '1']\n",
      "['Sat 01/27/2018', '1']\n",
      "['Fri 02/02/2018', '0']\n",
      "['Fri 02/09/2018', '1']\n",
      "['Mon 02/12/2018', '1']\n",
      "['Fri 02/16/2018', '2']\n",
      "['Sat 02/17/2018', '1']\n",
      "['Sun 02/18/2018', '2']\n",
      "['Tue 02/20/2018', '1']\n",
      "['Sun 02/25/2018', '1']\n",
      "75\n",
      "Yuzu/Plum Bottle\n",
      "['Fri 01/19/2018', '1']\n",
      "['Sat 01/20/2018', '1']\n",
      "['Mon 01/22/2018', '0']\n",
      "['Tue 01/23/2018', '1']\n",
      "['Sat 01/27/2018', '1']\n",
      "['Sat 02/10/2018', '2']\n",
      "['Mon 02/12/2018', '2']\n",
      "['Tue 02/13/2018', '1']\n",
      "['Fri 02/16/2018', '1']\n",
      "['Fri 02/23/2018', '2']\n"
     ]
    }
   ],
   "source": [
    "sake_ids=[46, 47, 55, 74, 75]\n",
    "sake_lists=[]\n",
    "\n",
    "for sake in sake_ids:\n",
    "    sake_list = []\n",
    "    print(sake)\n",
    "    for date in item_bought_to_list(sake): # 46g glass, 47g bottle, 55p glass, 74y glass , 75y bottle\n",
    "        if date[0].isdigit():\n",
    "            key = date[0]\n",
    "            date[0] = date[1]\n",
    "            date[1] = key\n",
    "        print(date)\n",
    "        sake_list.append(date)\n",
    "    sake_lists.append(sake_list)\n",
    "        "
   ]
  },
  {
   "cell_type": "code",
   "execution_count": 66,
   "metadata": {},
   "outputs": [
    {
     "data": {
      "text/html": [
       "<iframe id=\"igraph\" scrolling=\"no\" style=\"border:none;\" seamless=\"seamless\" src=\"https://plot.ly/~mluk/4.embed\" height=\"525px\" width=\"100%\"></iframe>"
      ],
      "text/plain": [
       "<plotly.tools.PlotlyDisplay object>"
      ]
     },
     "execution_count": 66,
     "metadata": {},
     "output_type": "execute_result"
    }
   ],
   "source": [
    "def total_sales_of_item(id):\n",
    "    item"
   ]
  },
  {
   "cell_type": "code",
   "execution_count": null,
   "metadata": {
    "collapsed": true
   },
   "outputs": [],
   "source": []
  }
 ],
 "metadata": {
  "kernelspec": {
   "display_name": "Python 3",
   "language": "python",
   "name": "python3"
  }
 },
 "nbformat": 4,
 "nbformat_minor": 2
}
