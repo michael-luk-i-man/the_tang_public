{
 "cells": [
  {
   "cell_type": "code",
   "execution_count": 2,
   "metadata": {
    "collapsed": true
   },
   "outputs": [],
   "source": [
    "import seaborn as sb, numpy as np, pandas as pd, matplotlib.pyplot as plt "
   ]
  },
  {
   "cell_type": "code",
   "execution_count": 7,
   "metadata": {},
   "outputs": [],
   "source": [
    "df = pd.read_csv(\"../the_tang/[LUCKYMAN'S COPY] Inventory List & Schedule - 1 Wing Heung.csv\")"
   ]
  },
  {
   "cell_type": "code",
   "execution_count": 10,
   "metadata": {},
   "outputs": [
    {
     "name": "stdout",
     "output_type": "stream",
     "text": [
      "    ID      Date  Measurement  Name  Amount  Total  Notes  Unit Price\n",
      "17  18   1/26/18           50   SM.    45.0    NaN    NaN         0.9\n",
      "16  17   1/26/18          175  FLAT   157.5    NaN    NaN         0.9\n",
      "15  16   1/26/18          200     L   180.0    NaN    NaN         0.9\n",
      "14  15   1/12/18           50   SM.    45.0  180.0    NaN         0.9\n",
      "13  14   1/12/18           25  FLAT    22.5    NaN    NaN         0.9\n",
      "12  13   1/12/18          125     L   112.5    NaN    NaN         0.9\n",
      "11  12  12/30/17           40   SM.    36.0  216.0    NaN         0.9\n",
      "10  11  12/30/17          100  FLAT    90.0    NaN    NaN         0.9\n",
      "9   10  12/30/17          100     L    90.0    NaN    NaN         0.9\n",
      "8    9  12/22/17           40   SM.    36.0  216.0    NaN         0.9\n",
      "7    8  12/22/17          100  FLAT    90.0    NaN    NaN         0.9\n",
      "6    7  12/22/17          100     L    90.0    NaN    NaN         0.9\n",
      "5    6  12/15/17           25   SM.    22.5  270.0    NaN         0.9\n",
      "4    5  12/15/17          100  FLAT    90.0    NaN    NaN         0.9\n",
      "3    4  12/15/17          175     L   157.5    NaN    NaN         0.9\n",
      "2    3   12/9/17           40   SM.    36.0  351.0    NaN         0.9\n",
      "1    2   12/9/17          125  FLAT   112.5    NaN    NaN         0.9\n",
      "0    1   12/9/17          225     L   202.5    NaN    NaN         0.9\n"
     ]
    }
   ],
   "source": [
    "reversed_df = df.iloc[::-1]\n",
    "print(reversed_df)"
   ]
  },
  {
   "cell_type": "code",
   "execution_count": 22,
   "metadata": {},
   "outputs": [
    {
     "data": {
      "text/plain": [
       "<matplotlib.figure.Figure at 0x7f75dfd947b8>"
      ]
     },
     "metadata": {},
     "output_type": "display_data"
    },
    {
     "data": {
      "image/png": "[encoded data removed]",
      "text/plain": [
       "<matplotlib.figure.Figure at 0x7f75dfd94780>"
      ]
     },
     "metadata": {},
     "output_type": "display_data"
    }
   ],
   "source": [
    "plt.clf()\n",
    "fig, ax = plt.subplots()\n",
    "sb.barplot(x='Date',y='Amount',data=df,hue='Name',palette='muted')\n",
    "wm = [9.490,\n",
    "9.750,\n",
    "11.99,\n",
    "13.990,\n",
    "10.49,\n",
    "13.99]\n",
    "\n",
    "coco = [2.99,\n",
    "2.99,\n",
    "3.33,\n",
    "2.88,\n",
    "2.88,\n",
    "2.67,\n",
    "3.11]\n",
    "\n",
    "melon = [4.165,\n",
    "5.998,\n",
    "6.165,\n",
    "5.832,\n",
    "5.832]\n",
    "# def change_width(ax, new_value) :\n",
    "#     for patch in ax.patches :\n",
    "#         current_width = patch.get_width()\n",
    "#         diff = current_width - new_value\n",
    "\n",
    "#         # we change the bar width\n",
    "#         patch.set_width(new_value)\n",
    "\n",
    "#         # we recenter the bar\n",
    "#         patch.set_x(patch.get_x() + diff * .5)\n",
    "\n",
    "# change_width(ax, .55)\n",
    "plt.show()"
   ]
  },
  {
   "cell_type": "code",
   "execution_count": 18,
   "metadata": {},
   "outputs": [
    {
     "data": {
      "image/png": "[encoded data removed]",
      "text/plain": [
       "<matplotlib.figure.Figure at 0x7f75e03f7a58>"
      ]
     },
     "metadata": {},
     "output_type": "display_data"
    }
   ],
   "source": [
    "plt.clf()\n",
    "sb.regplot(x='ID',y='Amount',data=reversed_df, color='green')\n",
    "plt.show()"
   ]
  },
  {
   "cell_type": "code",
   "execution_count": 27,
   "metadata": {},
   "outputs": [
    {
     "data": {
      "text/html": [
       "<iframe id=\"igraph\" scrolling=\"no\" style=\"border:none;\" seamless=\"seamless\" src=\"https://plot.ly/~mluk/4.embed\" height=\"525px\" width=\"100%\"></iframe>"
      ],
      "text/plain": [
       "<plotly.tools.PlotlyDisplay object>"
      ]
     },
     "execution_count": 27,
     "metadata": {},
     "output_type": "execute_result"
    }
   ],
   "source": [
    "import plotly.plotly as py\n",
    "import plotly\n",
    "import plotly.graph_objs as go\n",
    "N = 10\n",
    "random_x = np.linspace(0, 10, N)\n",
    "\n",
    "trace1 = go.Scatter(\n",
    "    x = random_x,\n",
    "    y = wm,\n",
    "        mode = 'lines+markers',\n",
    "    name = 'Watermelon Fresh'\n",
    ")\n",
    "\n",
    "trace2 = go.Scatter(\n",
    "    x = random_x,\n",
    "    y = coco,\n",
    "        mode = 'lines+markers',\n",
    "    name = 'Coconut Thai'\n",
    ")\n",
    "\n",
    "trace3 = go.Scatter(\n",
    "    x = random_x,\n",
    "    y = melon,\n",
    "        mode = 'lines+markers',\n",
    "    name = 'Melon Honey Kiss'\n",
    ")\n",
    "\n",
    "data = [trace1,trace2,trace3]\n",
    "\n",
    "py.iplot(data, filename='basic-line')"
   ]
  },
  {
   "cell_type": "code",
   "execution_count": null,
   "metadata": {
    "collapsed": true
   },
   "outputs": [],
   "source": []
  }
 ],
 "metadata": {
  "kernelspec": {
   "display_name": "Python 3",
   "language": "python",
   "name": "python3"
  },
  "language_info": {
   "codemirror_mode": {
    "name": "ipython",
    "version": 3
   },
   "file_extension": ".py",
   "mimetype": "text/x-python",
   "name": "python",
   "nbconvert_exporter": "python",
   "pygments_lexer": "ipython3",
   "version": "3.6.4"
  }
 },
 "nbformat": 4,
 "nbformat_minor": 2
}
