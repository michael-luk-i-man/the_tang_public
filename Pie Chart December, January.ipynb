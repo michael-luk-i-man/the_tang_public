{
 "cells": [
  {
   "cell_type": "code",
   "execution_count": 1,
   "metadata": {
    "collapsed": true
   },
   "outputs": [],
   "source": [
    "import seaborn as sb, numpy as np, pandas as pd, matplotlib.pyplot as plt "
   ]
  },
  {
   "cell_type": "code",
   "execution_count": 18,
   "metadata": {
    "collapsed": true
   },
   "outputs": [],
   "source": [
    "files = [\"[LUCKYMAN'S COPY] Inventory List & Schedule - 0 Hand Purchase.csv\",\"[LUCKYMAN'S COPY] Inventory List & Schedule - 1 Wing Heung.csv\",\"[LUCKYMAN'S COPY] Inventory List & Schedule - 2 Meat Centre.csv\",\"[LUCKYMAN'S COPY] Inventory List & Schedule - 3 Alcohol.csv\",\"[LUCKYMAN'S COPY] Inventory List & Schedule - 4 Gold Speed.csv\",\"[LUCKYMAN'S COPY] Inventory List & Schedule - 5 Sam Tell.csv\",\"[LUCKYMAN'S COPY] Inventory List & Schedule - 6 Union Foods.csv\",\"[LUCKYMAN'S COPY] Inventory List & Schedule - 7 Baldor.csv\",\"[LUCKYMAN'S COPY] Inventory List & Schedule - 8 Green Oil.csv\"]\n",
    "\n",
    "def sum_total(file):\n",
    "    df = pd.read_csv(str(file))\n",
    "    total = df['Total'].sum()\n",
    "    return total"
   ]
  },
  {
   "cell_type": "code",
   "execution_count": 19,
   "metadata": {},
   "outputs": [
    {
     "data": {
      "text/plain": [
       "[338.84000000000003,\n",
       " 1233.0,\n",
       " 3071.45,\n",
       " 1252.2400000000002,\n",
       " 886.5,\n",
       " 641.14,\n",
       " 2508.83,\n",
       " 122.1,\n",
       " 244.97]"
      ]
     },
     "metadata": {},
     "output_type": "display_data"
    }
   ],
   "source": [
    "totals = []\n",
    "for file in files:\n",
    "    totals.append(sum_total(file))\n",
    "\n",
    "display(totals)"
   ]
  },
  {
   "cell_type": "code",
   "execution_count": 21,
   "metadata": {},
   "outputs": [
    {
     "name": "stdout",
     "output_type": "stream",
     "text": [
      "High five! You successfully sent some data to your account on plotly. View your plot in your browser at https://plot.ly/~mluk/0 or inside your plot.ly account where it is named 'basic_pie_chart'\n"
     ]
    },
    {
     "data": {
      "text/html": [
       "<iframe id=\"igraph\" scrolling=\"no\" style=\"border:none;\" seamless=\"seamless\" src=\"https://plot.ly/~mluk/0.embed\" height=\"525px\" width=\"100%\"></iframe>"
      ],
      "text/plain": [
       "<plotly.tools.PlotlyDisplay object>"
      ]
     },
     "execution_count": 21,
     "metadata": {},
     "output_type": "execute_result"
    }
   ],
   "source": [
    "import plotly.plotly as py\n",
    "import plotly\n",
    "import plotly.graph_objs as go\n",
    "\n",
    "labels = ['Hand Purchase', 'Wing Heung', 'Meat Centre','Alcohol','Gold Speed','Sam Tell','Union Foods','Baldor','Green Oil']\n",
    "\n",
    "trace = go.Pie(labels=labels, values=totals)\n",
    "\n",
    "py.iplot([trace], filename='basic_pie_chart')"
   ]
  },
  {
   "cell_type": "code",
   "execution_count": null,
   "metadata": {
    "collapsed": true
   },
   "outputs": [],
   "source": []
  }
 ],
 "metadata": {
  "kernelspec": {
   "display_name": "Python 3",
   "language": "python",
   "name": "python3"
  },
  "language_info": {
   "codemirror_mode": {
    "name": "ipython",
    "version": 3
   },
   "file_extension": ".py",
   "mimetype": "text/x-python",
   "name": "python",
   "nbconvert_exporter": "python",
   "pygments_lexer": "ipython3",
   "version": "3.6.4"
  }
 },
 "nbformat": 4,
 "nbformat_minor": 2
}
