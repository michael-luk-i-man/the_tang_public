{
 "cells": [
  {
   "cell_type": "code",
   "execution_count": 58,
   "metadata": {},
   "outputs": [],
   "source": [
    "import seaborn as sb, numpy as np, pandas as pd, matplotlib.pyplot as plt "
   ]
  },
  {
   "cell_type": "code",
   "execution_count": 59,
   "metadata": {
    "collapsed": true
   },
   "outputs": [],
   "source": [
    "df = pd.read_csv(\"[LUCKYMAN'S COPY] Inventory List & Schedule - 1 Wing Heung.csv\")"
   ]
  },
  {
   "cell_type": "code",
   "execution_count": 72,
   "metadata": {},
   "outputs": [
    {
     "name": "stdout",
     "output_type": "stream",
     "text": [
      "    ID      Date  Quantity or Pounds  Name  Amount  Total\n",
      "14  15   12/9/17                  40   SM.    36.0  351.0\n",
      "13  14   12/9/17                 125  FLAT   112.5    NaN\n",
      "12  13   12/9/17                 225     L   202.5    NaN\n",
      "11  12  12/15/17                  25   SM.    22.5  270.0\n",
      "10  11  12/15/17                 100  FLAT    90.0    NaN\n",
      "9   10  12/15/17                 175     L   157.5    NaN\n",
      "8    9  12/22/17                  40   SM.    36.0  216.0\n",
      "7    8  12/22/17                 100  FLAT    90.0    NaN\n",
      "6    7  12/22/17                 100     L    90.0    NaN\n",
      "5    6  12/30/17                  40   SM.    36.0  216.0\n",
      "4    5  12/30/17                 100  FLAT    90.0    NaN\n",
      "3    4  12/30/17                 100     L    90.0    NaN\n",
      "2    3   1/12/18                  50   SM.    45.0  180.0\n",
      "1    2   1/12/18                  25  FLAT    22.5    NaN\n",
      "0    1   1/12/18                 125     L   112.5    NaN\n"
     ]
    }
   ],
   "source": [
    "reversed_df = df.iloc[::-1]\n",
    "print(reversed_df)"
   ]
  },
  {
   "cell_type": "code",
   "execution_count": 76,
   "metadata": {},
   "outputs": [
    {
     "data": {
      "text/plain": [
       "<matplotlib.figure.Figure at 0x7fdf693c9278>"
      ]
     },
     "metadata": {},
     "output_type": "display_data"
    },
    {
     "data": {
      "image/png": "[encoded data removed]",
      "text/plain": [
       "<matplotlib.figure.Figure at 0x7fdf693c95c0>"
      ]
     },
     "metadata": {},
     "output_type": "display_data"
    }
   ],
   "source": [
    "plt.clf()\n",
    "fig, ax = plt.subplots()\n",
    "sb.barplot(x='Date',y='Amount',data=reversed_df,hue='Name',palette='muted')\n",
    "# def change_width(ax, new_value) :\n",
    "#     for patch in ax.patches :\n",
    "#         current_width = patch.get_width()\n",
    "#         diff = current_width - new_value\n",
    "\n",
    "#         # we change the bar width\n",
    "#         patch.set_width(new_value)\n",
    "\n",
    "#         # we recenter the bar\n",
    "#         patch.set_x(patch.get_x() + diff * .5)\n",
    "\n",
    "# change_width(ax, .55)\n",
    "plt.show()"
   ]
  },
  {
   "cell_type": "code",
   "execution_count": 75,
   "metadata": {},
   "outputs": [
    {
     "data": {
      "image/png": "[encoded data removed]",
      "text/plain": [
       "<matplotlib.figure.Figure at 0x7fdf6939fe48>"
      ]
     },
     "metadata": {},
     "output_type": "display_data"
    }
   ],
   "source": [
    "plt.clf()\n",
    "sb.regplot(x='ID',y='Amount',data=reversed_df, color='green')\n",
    "plt.show()"
   ]
  },
  {
   "cell_type": "code",
   "execution_count": null,
   "metadata": {
    "collapsed": true
   },
   "outputs": [],
   "source": []
  }
 ],
 "metadata": {
  "kernelspec": {
   "display_name": "Python 3",
   "language": "python",
   "name": "python3"
  },
  "language_info": {
   "codemirror_mode": {
    "name": "ipython",
    "version": 3
   },
   "file_extension": ".py",
   "mimetype": "text/x-python",
   "name": "python",
   "nbconvert_exporter": "python",
   "pygments_lexer": "ipython3",
   "version": "3.6.4"
  }
 },
 "nbformat": 4,
 "nbformat_minor": 2
}
